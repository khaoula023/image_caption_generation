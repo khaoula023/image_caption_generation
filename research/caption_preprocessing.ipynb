{
 "cells": [
  {
   "cell_type": "code",
   "execution_count": 1,
   "id": "a3c24eba",
   "metadata": {},
   "outputs": [],
   "source": [
    "import os\n",
    "import glob\n",
    "import matplotlib.pyplot as plt\n",
    "import numpy as np\n",
    "import pandas as pd\n",
    "import sys\n",
    "import requests\n",
    "from PIL import Image\n",
    "from io import BytesIO\n",
    "import arabic_reshaper\n",
    "from bidi.algorithm import get_display\n",
    "import textwrap\n",
    "from math import ceil\n",
    "import time"
   ]
  },
  {
   "cell_type": "code",
   "execution_count": 2,
   "id": "eb313c67",
   "metadata": {},
   "outputs": [
    {
     "data": {
      "text/plain": [
       "<Figure size 640x480 with 0 Axes>"
      ]
     },
     "metadata": {},
     "output_type": "display_data"
    }
   ],
   "source": [
    "plt.set_cmap('gray')"
   ]
  },
  {
   "cell_type": "markdown",
   "id": "1c99447f",
   "metadata": {},
   "source": [
    "# Load Gemma Captions Dataset:"
   ]
  },
  {
   "cell_type": "code",
   "execution_count": 3,
   "id": "f179460d",
   "metadata": {},
   "outputs": [
    {
     "name": "stdout",
     "output_type": "stream",
     "text": [
      "Gemma_1 has(250, 2), Gemma_2 has(250, 2), Gemma_3 has(250, 2),  Gemma_4 has(250, 2), Gemma_5 has (250, 2), Gemma_6 has (12, 2)\n"
     ]
    },
    {
     "data": {
      "text/html": [
       "<div>\n",
       "<style scoped>\n",
       "    .dataframe tbody tr th:only-of-type {\n",
       "        vertical-align: middle;\n",
       "    }\n",
       "\n",
       "    .dataframe tbody tr th {\n",
       "        vertical-align: top;\n",
       "    }\n",
       "\n",
       "    .dataframe thead th {\n",
       "        text-align: right;\n",
       "    }\n",
       "</style>\n",
       "<table border=\"1\" class=\"dataframe\">\n",
       "  <thead>\n",
       "    <tr style=\"text-align: right;\">\n",
       "      <th></th>\n",
       "      <th>image</th>\n",
       "      <th>caption</th>\n",
       "    </tr>\n",
       "  </thead>\n",
       "  <tbody>\n",
       "    <tr>\n",
       "      <th>0</th>\n",
       "      <td>1000268201_693b08cb0e.jpg</td>\n",
       "      <td>بالتأكيد، إليك وصف للصورة في جملة قصيرة:\\n\\nتظ...</td>\n",
       "    </tr>\n",
       "    <tr>\n",
       "      <th>1</th>\n",
       "      <td>1001773457_577c3a7d70.jpg</td>\n",
       "      <td>في الصورة، يواجه كلبان بعضهما البعض على طريق ت...</td>\n",
       "    </tr>\n",
       "    <tr>\n",
       "      <th>2</th>\n",
       "      <td>1002674143_1b742ab4b8.jpg</td>\n",
       "      <td>الصورة تظهر طفلة صغيرة جالسة على العشب أمام قو...</td>\n",
       "    </tr>\n",
       "    <tr>\n",
       "      <th>3</th>\n",
       "      <td>1003163366_44323f5815.jpg</td>\n",
       "      <td>بالتأكيد، إليك وصف للصورة في جملة قصيرة:\\n\\nرج...</td>\n",
       "    </tr>\n",
       "    <tr>\n",
       "      <th>4</th>\n",
       "      <td>1007129816_e794419615.jpg</td>\n",
       "      <td>بالتأكيد، إليك وصف للصورة في جملة قصيرة:\\n\\nيظ...</td>\n",
       "    </tr>\n",
       "  </tbody>\n",
       "</table>\n",
       "</div>"
      ],
      "text/plain": [
       "                       image  \\\n",
       "0  1000268201_693b08cb0e.jpg   \n",
       "1  1001773457_577c3a7d70.jpg   \n",
       "2  1002674143_1b742ab4b8.jpg   \n",
       "3  1003163366_44323f5815.jpg   \n",
       "4  1007129816_e794419615.jpg   \n",
       "\n",
       "                                             caption  \n",
       "0  بالتأكيد، إليك وصف للصورة في جملة قصيرة:\\n\\nتظ...  \n",
       "1  في الصورة، يواجه كلبان بعضهما البعض على طريق ت...  \n",
       "2  الصورة تظهر طفلة صغيرة جالسة على العشب أمام قو...  \n",
       "3  بالتأكيد، إليك وصف للصورة في جملة قصيرة:\\n\\nرج...  \n",
       "4  بالتأكيد، إليك وصف للصورة في جملة قصيرة:\\n\\nيظ...  "
      ]
     },
     "execution_count": 3,
     "metadata": {},
     "output_type": "execute_result"
    }
   ],
   "source": [
    "gemma_1 = pd.read_csv(\"Data\\Gemma_captions\\Gemma_captions_day1.csv\")\n",
    "gemma_2 = pd.read_csv(\"Data\\Gemma_captions\\Gemma_captions_day2.csv\")\n",
    "gemma_3 = pd.read_csv(\"Data\\Gemma_captions\\Gemma_captions_day3.csv\")\n",
    "gemma_4 = pd.read_csv(\"Data\\Gemma_captions\\Gemma_captions_day4.csv\")\n",
    "gemma_5 = pd.read_csv(\"Data\\Gemma_captions\\Gemma_captions_day5.csv\")\n",
    "gemma_6 = pd.read_csv(\"Data\\Gemma_captions\\Gemma_caption_day6.csv\")\n",
    "print(f'Gemma_1 has{gemma_1.shape}, Gemma_2 has{gemma_2.shape}, Gemma_3 has{gemma_3.shape},  Gemma_4 has{gemma_4.shape}, Gemma_5 has {gemma_5.shape}, Gemma_6 has {gemma_6.shape}')\n",
    "gemma_1.head()\n"
   ]
  },
  {
   "cell_type": "markdown",
   "id": "d2e1acf0",
   "metadata": {},
   "source": [
    "# Concatenate all datasets:"
   ]
  },
  {
   "cell_type": "code",
   "execution_count": 4,
   "id": "4db10c62",
   "metadata": {},
   "outputs": [
    {
     "name": "stdout",
     "output_type": "stream",
     "text": [
      "(1262, 2)\n"
     ]
    },
    {
     "data": {
      "text/html": [
       "<div>\n",
       "<style scoped>\n",
       "    .dataframe tbody tr th:only-of-type {\n",
       "        vertical-align: middle;\n",
       "    }\n",
       "\n",
       "    .dataframe tbody tr th {\n",
       "        vertical-align: top;\n",
       "    }\n",
       "\n",
       "    .dataframe thead th {\n",
       "        text-align: right;\n",
       "    }\n",
       "</style>\n",
       "<table border=\"1\" class=\"dataframe\">\n",
       "  <thead>\n",
       "    <tr style=\"text-align: right;\">\n",
       "      <th></th>\n",
       "      <th>image</th>\n",
       "      <th>caption</th>\n",
       "    </tr>\n",
       "  </thead>\n",
       "  <tbody>\n",
       "    <tr>\n",
       "      <th>0</th>\n",
       "      <td>1000268201_693b08cb0e.jpg</td>\n",
       "      <td>بالتأكيد، إليك وصف للصورة في جملة قصيرة:\\n\\nتظ...</td>\n",
       "    </tr>\n",
       "    <tr>\n",
       "      <th>1</th>\n",
       "      <td>1001773457_577c3a7d70.jpg</td>\n",
       "      <td>في الصورة، يواجه كلبان بعضهما البعض على طريق ت...</td>\n",
       "    </tr>\n",
       "    <tr>\n",
       "      <th>2</th>\n",
       "      <td>1002674143_1b742ab4b8.jpg</td>\n",
       "      <td>الصورة تظهر طفلة صغيرة جالسة على العشب أمام قو...</td>\n",
       "    </tr>\n",
       "    <tr>\n",
       "      <th>3</th>\n",
       "      <td>1003163366_44323f5815.jpg</td>\n",
       "      <td>بالتأكيد، إليك وصف للصورة في جملة قصيرة:\\n\\nرج...</td>\n",
       "    </tr>\n",
       "    <tr>\n",
       "      <th>4</th>\n",
       "      <td>1007129816_e794419615.jpg</td>\n",
       "      <td>بالتأكيد، إليك وصف للصورة في جملة قصيرة:\\n\\nيظ...</td>\n",
       "    </tr>\n",
       "  </tbody>\n",
       "</table>\n",
       "</div>"
      ],
      "text/plain": [
       "                       image  \\\n",
       "0  1000268201_693b08cb0e.jpg   \n",
       "1  1001773457_577c3a7d70.jpg   \n",
       "2  1002674143_1b742ab4b8.jpg   \n",
       "3  1003163366_44323f5815.jpg   \n",
       "4  1007129816_e794419615.jpg   \n",
       "\n",
       "                                             caption  \n",
       "0  بالتأكيد، إليك وصف للصورة في جملة قصيرة:\\n\\nتظ...  \n",
       "1  في الصورة، يواجه كلبان بعضهما البعض على طريق ت...  \n",
       "2  الصورة تظهر طفلة صغيرة جالسة على العشب أمام قو...  \n",
       "3  بالتأكيد، إليك وصف للصورة في جملة قصيرة:\\n\\nرج...  \n",
       "4  بالتأكيد، إليك وصف للصورة في جملة قصيرة:\\n\\nيظ...  "
      ]
     },
     "execution_count": 4,
     "metadata": {},
     "output_type": "execute_result"
    }
   ],
   "source": [
    "data1 = pd.concat([gemma_1, gemma_2, gemma_3], ignore_index=True)\n",
    "data2 = pd.concat([gemma_4, gemma_5, gemma_6], ignore_index=True)\n",
    "\n",
    "df = pd.concat([data1, data2], ignore_index=True)\n",
    "print(df.shape)\n",
    "df.head()\n"
   ]
  },
  {
   "cell_type": "code",
   "execution_count": 5,
   "id": "192030d7",
   "metadata": {},
   "outputs": [
    {
     "data": {
      "text/plain": [
       "(34, 2)"
      ]
     },
     "execution_count": 5,
     "metadata": {},
     "output_type": "execute_result"
    }
   ],
   "source": [
    "missing_caption = df[df[\"caption\"].isna()]\n",
    "missing_caption.shape"
   ]
  },
  {
   "cell_type": "code",
   "execution_count": 6,
   "id": "d50c9dbd",
   "metadata": {},
   "outputs": [
    {
     "data": {
      "text/plain": [
       "(1228, 2)"
      ]
     },
     "execution_count": 6,
     "metadata": {},
     "output_type": "execute_result"
    }
   ],
   "source": [
    "df = df.dropna(subset=[\"caption\"]).reset_index(drop=True)\n",
    "df.shape"
   ]
  },
  {
   "cell_type": "code",
   "execution_count": 7,
   "id": "c4e456af",
   "metadata": {},
   "outputs": [
    {
     "data": {
      "text/plain": [
       "0     بالتأكيد، إليك وصف للصورة في جملة قصيرة:\\n\\nتظ...\n",
       "1     في الصورة، يواجه كلبان بعضهما البعض على طريق ت...\n",
       "2     الصورة تظهر طفلة صغيرة جالسة على العشب أمام قو...\n",
       "3     بالتأكيد، إليك وصف للصورة في جملة قصيرة:\\n\\nرج...\n",
       "4     بالتأكيد، إليك وصف للصورة في جملة قصيرة:\\n\\nيظ...\n",
       "5     الصورة تظهر طفلة صغيرة تتسلق شبكة حمراء في ملع...\n",
       "6     في الصورة، يركض كلب بوستون تيرير أسود وأبيض عل...\n",
       "7     بالتأكيد، إليك وصف للصورة في جملة قصيرة:\\n\\nكل...\n",
       "8     الصورة تظهر طفلاً صغيراً يرتدي ملابس زرقاء وبي...\n",
       "9     بالتأكيد، إليك وصف للصورة في جملة قصيرة:\\n\\nكل...\n",
       "10    في الصورة، يركض كلب رمادي وأبيض في الثلج، ويبد...\n",
       "11    تُظهر الصورة رسامًا يعرض لوحاته في الغابة المغ...\n",
       "12    بالتأكيد، إليك وصف للصورة في جملة قصيرة:\\n\\nيظ...\n",
       "13    بالتأكيد، إليك وصف للصورة في جملة قصيرة:\\n\\nيظ...\n",
       "14    بالتأكيد، إليك وصف للصورة في جملة قصيرة:\\n\\nكل...\n",
       "15    في الصورة، يقفز كلب أبيض وأسود في الهواء محاول...\n",
       "16    الصورة تظهر طفلين يقفان على ضفاف بحيرة، أحدهما...\n",
       "17    بالتأكيد، إليك وصف للصورة في جملة قصيرة:\\n\\nتُ...\n",
       "18    بالتأكيد، إليك وصف للصورة في جملة قصيرة:\\n\\nكل...\n",
       "19    بالتأكيد، إليك وصف للصورة في جملة قصيرة:\\n\\nتُ...\n",
       "Name: caption, dtype: object"
      ]
     },
     "execution_count": 7,
     "metadata": {},
     "output_type": "execute_result"
    }
   ],
   "source": [
    "df.caption[:20]"
   ]
  },
  {
   "cell_type": "markdown",
   "id": "07c1fd70",
   "metadata": {},
   "source": [
    "# Load Gemini Datasets:"
   ]
  },
  {
   "cell_type": "code",
   "execution_count": 8,
   "id": "bb1fb8fc",
   "metadata": {},
   "outputs": [
    {
     "name": "stdout",
     "output_type": "stream",
     "text": [
      "gemini_1 has(246, 2), gemini_2 has(245, 2), gemini_3 has(238, 2), gemini_4 has(248, 2), gemini_5 has(247, 2)\n"
     ]
    },
    {
     "data": {
      "text/html": [
       "<div>\n",
       "<style scoped>\n",
       "    .dataframe tbody tr th:only-of-type {\n",
       "        vertical-align: middle;\n",
       "    }\n",
       "\n",
       "    .dataframe tbody tr th {\n",
       "        vertical-align: top;\n",
       "    }\n",
       "\n",
       "    .dataframe thead th {\n",
       "        text-align: right;\n",
       "    }\n",
       "</style>\n",
       "<table border=\"1\" class=\"dataframe\">\n",
       "  <thead>\n",
       "    <tr style=\"text-align: right;\">\n",
       "      <th></th>\n",
       "      <th>image</th>\n",
       "      <th>caption</th>\n",
       "    </tr>\n",
       "  </thead>\n",
       "  <tbody>\n",
       "    <tr>\n",
       "      <th>0</th>\n",
       "      <td>1001773457_577c3a7d70.jpg</td>\n",
       "      <td>كلبان يلعبان على طريق أسفلتي.</td>\n",
       "    </tr>\n",
       "    <tr>\n",
       "      <th>1</th>\n",
       "      <td>1002674143_1b742ab4b8.jpg</td>\n",
       "      <td>تظهر الصورة طفلة صغيرة ملطخة بالألوان تجلس على...</td>\n",
       "    </tr>\n",
       "    <tr>\n",
       "      <th>2</th>\n",
       "      <td>1003163366_44323f5815.jpg</td>\n",
       "      <td>يظهر في الصورة رجل مستلقٍ على مقعد وكلبه جالس ...</td>\n",
       "    </tr>\n",
       "    <tr>\n",
       "      <th>3</th>\n",
       "      <td>1007129816_e794419615.jpg</td>\n",
       "      <td>رجل يرتدي نظارات وقبعة برتقالية فريدة مصنوعة م...</td>\n",
       "    </tr>\n",
       "    <tr>\n",
       "      <th>4</th>\n",
       "      <td>1007320043_627395c3d8.jpg</td>\n",
       "      <td>طفلة صغيرة تتسلق شبكة حبال حمراء في ملعب وتنظر...</td>\n",
       "    </tr>\n",
       "  </tbody>\n",
       "</table>\n",
       "</div>"
      ],
      "text/plain": [
       "                       image  \\\n",
       "0  1001773457_577c3a7d70.jpg   \n",
       "1  1002674143_1b742ab4b8.jpg   \n",
       "2  1003163366_44323f5815.jpg   \n",
       "3  1007129816_e794419615.jpg   \n",
       "4  1007320043_627395c3d8.jpg   \n",
       "\n",
       "                                             caption  \n",
       "0                      كلبان يلعبان على طريق أسفلتي.  \n",
       "1  تظهر الصورة طفلة صغيرة ملطخة بالألوان تجلس على...  \n",
       "2  يظهر في الصورة رجل مستلقٍ على مقعد وكلبه جالس ...  \n",
       "3  رجل يرتدي نظارات وقبعة برتقالية فريدة مصنوعة م...  \n",
       "4  طفلة صغيرة تتسلق شبكة حبال حمراء في ملعب وتنظر...  "
      ]
     },
     "execution_count": 8,
     "metadata": {},
     "output_type": "execute_result"
    }
   ],
   "source": [
    "gemini_1 = pd.read_csv(\"Data\\Gemini_captions\\Gemini_captions_day1.csv\")\n",
    "gemini_2 = pd.read_csv(\"Data\\Gemini_captions\\Gemini_captions_day2.csv\")\n",
    "gemini_3 = pd.read_csv(\"Data\\Gemini_captions\\Gemini_captions_day3.csv\")\n",
    "gemini_4 = pd.read_csv(\"Data\\Gemini_captions\\Gemini_captions_day4.csv\")\n",
    "gemini_5 = pd.read_csv(\"Data\\Gemini_captions\\Gemini_captions_day5.csv\")\n",
    "print(f'gemini_1 has{gemini_1.shape}, gemini_2 has{gemini_2.shape}, gemini_3 has{gemini_3.shape}, gemini_4 has{gemini_4.shape}, gemini_5 has{gemini_5.shape}')\n",
    "gemini_1.head()\n"
   ]
  },
  {
   "cell_type": "markdown",
   "id": "b1c5a7ab",
   "metadata": {},
   "source": [
    "# Concatenate all datasets:"
   ]
  },
  {
   "cell_type": "code",
   "execution_count": 9,
   "id": "a024fa9f",
   "metadata": {},
   "outputs": [
    {
     "name": "stdout",
     "output_type": "stream",
     "text": [
      "(1224, 2)\n"
     ]
    },
    {
     "data": {
      "text/html": [
       "<div>\n",
       "<style scoped>\n",
       "    .dataframe tbody tr th:only-of-type {\n",
       "        vertical-align: middle;\n",
       "    }\n",
       "\n",
       "    .dataframe tbody tr th {\n",
       "        vertical-align: top;\n",
       "    }\n",
       "\n",
       "    .dataframe thead th {\n",
       "        text-align: right;\n",
       "    }\n",
       "</style>\n",
       "<table border=\"1\" class=\"dataframe\">\n",
       "  <thead>\n",
       "    <tr style=\"text-align: right;\">\n",
       "      <th></th>\n",
       "      <th>image</th>\n",
       "      <th>caption</th>\n",
       "    </tr>\n",
       "  </thead>\n",
       "  <tbody>\n",
       "    <tr>\n",
       "      <th>0</th>\n",
       "      <td>1001773457_577c3a7d70.jpg</td>\n",
       "      <td>كلبان يلعبان على طريق أسفلتي.</td>\n",
       "    </tr>\n",
       "    <tr>\n",
       "      <th>1</th>\n",
       "      <td>1002674143_1b742ab4b8.jpg</td>\n",
       "      <td>تظهر الصورة طفلة صغيرة ملطخة بالألوان تجلس على...</td>\n",
       "    </tr>\n",
       "    <tr>\n",
       "      <th>2</th>\n",
       "      <td>1003163366_44323f5815.jpg</td>\n",
       "      <td>يظهر في الصورة رجل مستلقٍ على مقعد وكلبه جالس ...</td>\n",
       "    </tr>\n",
       "    <tr>\n",
       "      <th>3</th>\n",
       "      <td>1007129816_e794419615.jpg</td>\n",
       "      <td>رجل يرتدي نظارات وقبعة برتقالية فريدة مصنوعة م...</td>\n",
       "    </tr>\n",
       "    <tr>\n",
       "      <th>4</th>\n",
       "      <td>1007320043_627395c3d8.jpg</td>\n",
       "      <td>طفلة صغيرة تتسلق شبكة حبال حمراء في ملعب وتنظر...</td>\n",
       "    </tr>\n",
       "  </tbody>\n",
       "</table>\n",
       "</div>"
      ],
      "text/plain": [
       "                       image  \\\n",
       "0  1001773457_577c3a7d70.jpg   \n",
       "1  1002674143_1b742ab4b8.jpg   \n",
       "2  1003163366_44323f5815.jpg   \n",
       "3  1007129816_e794419615.jpg   \n",
       "4  1007320043_627395c3d8.jpg   \n",
       "\n",
       "                                             caption  \n",
       "0                      كلبان يلعبان على طريق أسفلتي.  \n",
       "1  تظهر الصورة طفلة صغيرة ملطخة بالألوان تجلس على...  \n",
       "2  يظهر في الصورة رجل مستلقٍ على مقعد وكلبه جالس ...  \n",
       "3  رجل يرتدي نظارات وقبعة برتقالية فريدة مصنوعة م...  \n",
       "4  طفلة صغيرة تتسلق شبكة حبال حمراء في ملعب وتنظر...  "
      ]
     },
     "execution_count": 9,
     "metadata": {},
     "output_type": "execute_result"
    }
   ],
   "source": [
    "data1 = pd.concat([gemini_1, gemini_2], ignore_index=True)\n",
    "data2 = pd.concat([gemini_3, gemini_4, gemini_5], ignore_index=True)\n",
    "\n",
    "gemini_df = pd.concat([data1, data2], ignore_index=True)\n",
    "print(gemini_df.shape)\n",
    "gemini_df.head()\n"
   ]
  },
  {
   "cell_type": "code",
   "execution_count": 10,
   "id": "50961f7f",
   "metadata": {},
   "outputs": [
    {
     "data": {
      "text/plain": [
       "(15, 2)"
      ]
     },
     "execution_count": 10,
     "metadata": {},
     "output_type": "execute_result"
    }
   ],
   "source": [
    "missing_caption = gemini_df[gemini_df[\"caption\"].isna()]\n",
    "missing_caption.shape"
   ]
  },
  {
   "cell_type": "code",
   "execution_count": 11,
   "id": "1234bc55",
   "metadata": {},
   "outputs": [
    {
     "data": {
      "text/plain": [
       "(1209, 2)"
      ]
     },
     "execution_count": 11,
     "metadata": {},
     "output_type": "execute_result"
    }
   ],
   "source": [
    "gemini_df = gemini_df.dropna(subset=[\"caption\"]).reset_index(drop=True)\n",
    "gemini_df.shape"
   ]
  },
  {
   "cell_type": "code",
   "execution_count": 12,
   "id": "8c06100b",
   "metadata": {},
   "outputs": [
    {
     "data": {
      "text/plain": [
       "0                         كلبان يلعبان على طريق أسفلتي.\n",
       "1     تظهر الصورة طفلة صغيرة ملطخة بالألوان تجلس على...\n",
       "2     يظهر في الصورة رجل مستلقٍ على مقعد وكلبه جالس ...\n",
       "3     رجل يرتدي نظارات وقبعة برتقالية فريدة مصنوعة م...\n",
       "4     طفلة صغيرة تتسلق شبكة حبال حمراء في ملعب وتنظر...\n",
       "5            كلب بوسطن تيرير يركض بحماس في حديقة خضراء.\n",
       "6     كلب أبيض يهز جسمه لينفض الماء عن نفسه على الشا...\n",
       "7     يظهر صبي صغير مبتسم يمشي على الرصيف أمام جدار ...\n",
       "8           كلب سعيد يقفز فوق جذع شجرة في الهواء الطلق.\n",
       "9                 كلب رشيق يركض بفرح في الثلج المتناثر.\n",
       "10    متزلج يمر بجانب رجل يعرض لوحات فنية في غابة ثل...\n",
       "11    تُظهر الصورة متسلقة صخور في لقطات متتالية أثنا...\n",
       "12    كلب بني يلعب بحماس على العشب الأخضر بالقرب من ...\n",
       "13                 كلب أبيض يطارد كرة صفراء في الحديقة.\n",
       "14    كلب أبيض يقفز عالياً في مرج أخضر لالتقاط كرة ص...\n",
       "15    يظهر طفل يلوح لبطة على ضفة بحيرة في حديقة حضري...\n",
       "16    تُظهر الصورة عائلة تجلس بجانب بحيرة مع طفل رضي...\n",
       "17              كلب أسود يجري في الأمواج ويُحدث رشاشًا.\n",
       "18    صيادان يقومان بصيد الأسماك على الجليد، وأحدهما...\n",
       "19                         كلبان يلهوان على شاطئ البحر.\n",
       "Name: caption, dtype: object"
      ]
     },
     "execution_count": 12,
     "metadata": {},
     "output_type": "execute_result"
    }
   ],
   "source": [
    "gemini_df.caption[:20]"
   ]
  },
  {
   "cell_type": "code",
   "execution_count": 13,
   "id": "c3605233",
   "metadata": {},
   "outputs": [
    {
     "data": {
      "text/html": [
       "<div>\n",
       "<style scoped>\n",
       "    .dataframe tbody tr th:only-of-type {\n",
       "        vertical-align: middle;\n",
       "    }\n",
       "\n",
       "    .dataframe tbody tr th {\n",
       "        vertical-align: top;\n",
       "    }\n",
       "\n",
       "    .dataframe thead th {\n",
       "        text-align: right;\n",
       "    }\n",
       "</style>\n",
       "<table border=\"1\" class=\"dataframe\">\n",
       "  <thead>\n",
       "    <tr style=\"text-align: right;\">\n",
       "      <th></th>\n",
       "      <th>image</th>\n",
       "      <th>Gemma_caption</th>\n",
       "      <th>Gemini_caption</th>\n",
       "    </tr>\n",
       "  </thead>\n",
       "  <tbody>\n",
       "    <tr>\n",
       "      <th>0</th>\n",
       "      <td>1001773457_577c3a7d70.jpg</td>\n",
       "      <td>في الصورة، يواجه كلبان بعضهما البعض على طريق ت...</td>\n",
       "      <td>كلبان يلعبان على طريق أسفلتي.</td>\n",
       "    </tr>\n",
       "    <tr>\n",
       "      <th>1</th>\n",
       "      <td>1002674143_1b742ab4b8.jpg</td>\n",
       "      <td>الصورة تظهر طفلة صغيرة جالسة على العشب أمام قو...</td>\n",
       "      <td>تظهر الصورة طفلة صغيرة ملطخة بالألوان تجلس على...</td>\n",
       "    </tr>\n",
       "    <tr>\n",
       "      <th>2</th>\n",
       "      <td>1003163366_44323f5815.jpg</td>\n",
       "      <td>بالتأكيد، إليك وصف للصورة في جملة قصيرة:\\n\\nرج...</td>\n",
       "      <td>يظهر في الصورة رجل مستلقٍ على مقعد وكلبه جالس ...</td>\n",
       "    </tr>\n",
       "    <tr>\n",
       "      <th>3</th>\n",
       "      <td>1007129816_e794419615.jpg</td>\n",
       "      <td>بالتأكيد، إليك وصف للصورة في جملة قصيرة:\\n\\nيظ...</td>\n",
       "      <td>رجل يرتدي نظارات وقبعة برتقالية فريدة مصنوعة م...</td>\n",
       "    </tr>\n",
       "    <tr>\n",
       "      <th>4</th>\n",
       "      <td>1007320043_627395c3d8.jpg</td>\n",
       "      <td>الصورة تظهر طفلة صغيرة تتسلق شبكة حمراء في ملع...</td>\n",
       "      <td>طفلة صغيرة تتسلق شبكة حبال حمراء في ملعب وتنظر...</td>\n",
       "    </tr>\n",
       "  </tbody>\n",
       "</table>\n",
       "</div>"
      ],
      "text/plain": [
       "                       image  \\\n",
       "0  1001773457_577c3a7d70.jpg   \n",
       "1  1002674143_1b742ab4b8.jpg   \n",
       "2  1003163366_44323f5815.jpg   \n",
       "3  1007129816_e794419615.jpg   \n",
       "4  1007320043_627395c3d8.jpg   \n",
       "\n",
       "                                       Gemma_caption  \\\n",
       "0  في الصورة، يواجه كلبان بعضهما البعض على طريق ت...   \n",
       "1  الصورة تظهر طفلة صغيرة جالسة على العشب أمام قو...   \n",
       "2  بالتأكيد، إليك وصف للصورة في جملة قصيرة:\\n\\nرج...   \n",
       "3  بالتأكيد، إليك وصف للصورة في جملة قصيرة:\\n\\nيظ...   \n",
       "4  الصورة تظهر طفلة صغيرة تتسلق شبكة حمراء في ملع...   \n",
       "\n",
       "                                      Gemini_caption  \n",
       "0                      كلبان يلعبان على طريق أسفلتي.  \n",
       "1  تظهر الصورة طفلة صغيرة ملطخة بالألوان تجلس على...  \n",
       "2  يظهر في الصورة رجل مستلقٍ على مقعد وكلبه جالس ...  \n",
       "3  رجل يرتدي نظارات وقبعة برتقالية فريدة مصنوعة م...  \n",
       "4  طفلة صغيرة تتسلق شبكة حبال حمراء في ملعب وتنظر...  "
      ]
     },
     "execution_count": 13,
     "metadata": {},
     "output_type": "execute_result"
    }
   ],
   "source": [
    "caption_df = pd.merge(df, gemini_df, on=\"image\", how=\"inner\")\n",
    "caption_df.columns = [\"image\", \"Gemma_caption\", \"Gemini_caption\"]\n",
    "caption_df.head()"
   ]
  },
  {
   "cell_type": "code",
   "execution_count": 14,
   "id": "493057fd",
   "metadata": {},
   "outputs": [
    {
     "name": "stdout",
     "output_type": "stream",
     "text": [
      "The data has (1192, 3) captions\n"
     ]
    }
   ],
   "source": [
    "print(f'The data has {caption_df.shape} captions')"
   ]
  },
  {
   "cell_type": "markdown",
   "id": "6fc0a5f7",
   "metadata": {},
   "source": [
    "# Captions perprocessing:"
   ]
  },
  {
   "cell_type": "code",
   "execution_count": 15,
   "id": "0957d765",
   "metadata": {},
   "outputs": [],
   "source": [
    "import re\n",
    "\n",
    "def clean_intro(text):\n",
    "    # Remove leading punctuation/spaces\n",
    "    text = re.sub(r\"^[\\s:\\-،]*\", \"\", text)\n",
    "    \n",
    "    # Remove common intro patterns\n",
    "    patterns = [\n",
    "    r\"^(?:بالتأكيد(?:،)?(?:\\s*إليك(?:\\s*وصف(?:\\s*للصورة)?)?)?)[:：\\s,-]*\",  \n",
    "    r\"^(?:في(?:\\s+هذه)?\\s+الصورة)[:：\\s،,-]*\",                              \n",
    "    r\"^(?:تُظهر|يظهر|تُظهر|تبدوا|تبدو)[:：\\s،,-]*(?:الصورة)?\\s*\",                 \n",
    "    r\"^(?:الصورة(?:\\s+تظهر|\\s+تُظهر))[:：\\s،,-]*\",                          \n",
    "    r\"^(?:في\\s+الصوره)[:：\\s،,-]*\",                                         \n",
    "    r\"^(?:يبدو\\s+أن(?:\\s+ال)?\\s*الصورة)[:：\\s،,-]*\",                        \n",
    "    r\"^(?:في\\s+الصور?ة)[:：\\s،,-]*\",                                        \n",
    "    r\"(?:في\\s+جملة\\s+قصيرة[:：\\s،,-]*)\",      \n",
    "    r\"(?:بجملة\\s+قصيرة[:：\\s،,-]*)\"           \n",
    "    ]                                   \n",
    "    \n",
    "    for p in patterns:\n",
    "        text = re.sub(p, \"\", text)\n",
    "    return text.strip()"
   ]
  },
  {
   "cell_type": "code",
   "execution_count": 16,
   "id": "c44794d1",
   "metadata": {},
   "outputs": [],
   "source": [
    "def normalize_arabic(text):\n",
    "    text = re.sub(\"[إأآا]\", \"ا\", text)\n",
    "    text = re.sub(\"ى\", \"ي\", text)\n",
    "    text = re.sub(\"ؤ\", \"ء\", text)\n",
    "    text = re.sub(\"ئ\", \"ء\", text)\n",
    "    text = re.sub(\"ة\", \"ه\", text)\n",
    "    text = re.sub(\"[ًٌٍَُِّْـ]\", \"\", text)\n",
    "    return text"
   ]
  },
  {
   "cell_type": "code",
   "execution_count": 17,
   "id": "b8f25afe",
   "metadata": {},
   "outputs": [],
   "source": [
    "def preprocess_caption(text):\n",
    "    text = str(text).replace(\"\\n\", \" \").replace(\"\\\\n\", \" \").strip()\n",
    "    text = clean_intro(text)\n",
    "    text = re.sub(r\"[A-Za-z0-9]+\", \"\", text)  # remove Latin chars/numbers\n",
    "    text = normalize_arabic(text)\n",
    "    text = re.sub(r\"\\s+\", \" \", text)  # collapse spaces\n",
    "    return text.strip()"
   ]
  },
  {
   "cell_type": "code",
   "execution_count": 18,
   "id": "5766993f",
   "metadata": {},
   "outputs": [
    {
     "data": {
      "text/html": [
       "<div>\n",
       "<style scoped>\n",
       "    .dataframe tbody tr th:only-of-type {\n",
       "        vertical-align: middle;\n",
       "    }\n",
       "\n",
       "    .dataframe tbody tr th {\n",
       "        vertical-align: top;\n",
       "    }\n",
       "\n",
       "    .dataframe thead th {\n",
       "        text-align: right;\n",
       "    }\n",
       "</style>\n",
       "<table border=\"1\" class=\"dataframe\">\n",
       "  <thead>\n",
       "    <tr style=\"text-align: right;\">\n",
       "      <th></th>\n",
       "      <th>image</th>\n",
       "      <th>Gemma_caption</th>\n",
       "      <th>Gemini_caption</th>\n",
       "    </tr>\n",
       "  </thead>\n",
       "  <tbody>\n",
       "    <tr>\n",
       "      <th>0</th>\n",
       "      <td>1001773457_577c3a7d70.jpg</td>\n",
       "      <td>يواجه كلبان بعضهما البعض علي طريق ترابي، ويبدو...</td>\n",
       "      <td>كلبان يلعبان علي طريق اسفلتي.</td>\n",
       "    </tr>\n",
       "    <tr>\n",
       "      <th>1</th>\n",
       "      <td>1002674143_1b742ab4b8.jpg</td>\n",
       "      <td>طفله صغيره جالسه علي العشب امام قوس قزح كبير ر...</td>\n",
       "      <td>تظهر الصوره طفله صغيره ملطخه بالالوان تجلس علي...</td>\n",
       "    </tr>\n",
       "    <tr>\n",
       "      <th>2</th>\n",
       "      <td>1003163366_44323f5815.jpg</td>\n",
       "      <td>رجل مستلق علي مقعد في الهواء الطلق، بينما يجلس...</td>\n",
       "      <td>رجل مستلق علي مقعد وكلبه جالس امامه امام سد ماءي.</td>\n",
       "    </tr>\n",
       "    <tr>\n",
       "      <th>3</th>\n",
       "      <td>1007129816_e794419615.jpg</td>\n",
       "      <td>يظهر في الصوره رجل يرتدي قبعه غريبه مصنوعه من ...</td>\n",
       "      <td>رجل يرتدي نظارات وقبعه برتقاليه فريده مصنوعه م...</td>\n",
       "    </tr>\n",
       "    <tr>\n",
       "      <th>4</th>\n",
       "      <td>1007320043_627395c3d8.jpg</td>\n",
       "      <td>طفله صغيره تتسلق شبكه حمراء في ملعب، وتبدو سعي...</td>\n",
       "      <td>طفله صغيره تتسلق شبكه حبال حمراء في ملعب وتنظر...</td>\n",
       "    </tr>\n",
       "  </tbody>\n",
       "</table>\n",
       "</div>"
      ],
      "text/plain": [
       "                       image  \\\n",
       "0  1001773457_577c3a7d70.jpg   \n",
       "1  1002674143_1b742ab4b8.jpg   \n",
       "2  1003163366_44323f5815.jpg   \n",
       "3  1007129816_e794419615.jpg   \n",
       "4  1007320043_627395c3d8.jpg   \n",
       "\n",
       "                                       Gemma_caption  \\\n",
       "0  يواجه كلبان بعضهما البعض علي طريق ترابي، ويبدو...   \n",
       "1  طفله صغيره جالسه علي العشب امام قوس قزح كبير ر...   \n",
       "2  رجل مستلق علي مقعد في الهواء الطلق، بينما يجلس...   \n",
       "3  يظهر في الصوره رجل يرتدي قبعه غريبه مصنوعه من ...   \n",
       "4  طفله صغيره تتسلق شبكه حمراء في ملعب، وتبدو سعي...   \n",
       "\n",
       "                                      Gemini_caption  \n",
       "0                      كلبان يلعبان علي طريق اسفلتي.  \n",
       "1  تظهر الصوره طفله صغيره ملطخه بالالوان تجلس علي...  \n",
       "2  رجل مستلق علي مقعد وكلبه جالس امامه امام سد ماءي.  \n",
       "3  رجل يرتدي نظارات وقبعه برتقاليه فريده مصنوعه م...  \n",
       "4  طفله صغيره تتسلق شبكه حبال حمراء في ملعب وتنظر...  "
      ]
     },
     "execution_count": 18,
     "metadata": {},
     "output_type": "execute_result"
    }
   ],
   "source": [
    "caption_df[\"Gemma_caption\"] = caption_df[\"Gemma_caption\"].astype(str).apply(preprocess_caption)\n",
    "caption_df[\"Gemini_caption\"] = caption_df[\"Gemini_caption\"].astype(str).apply(preprocess_caption)\n",
    "\n",
    "caption_df.head()"
   ]
  },
  {
   "cell_type": "markdown",
   "id": "120c6f0e",
   "metadata": {},
   "source": [
    "# Load Arabic Flickr8k Captions"
   ]
  },
  {
   "cell_type": "code",
   "execution_count": 19,
   "id": "a05da014",
   "metadata": {},
   "outputs": [
    {
     "data": {
      "text/html": [
       "<div>\n",
       "<style scoped>\n",
       "    .dataframe tbody tr th:only-of-type {\n",
       "        vertical-align: middle;\n",
       "    }\n",
       "\n",
       "    .dataframe tbody tr th {\n",
       "        vertical-align: top;\n",
       "    }\n",
       "\n",
       "    .dataframe thead th {\n",
       "        text-align: right;\n",
       "    }\n",
       "</style>\n",
       "<table border=\"1\" class=\"dataframe\">\n",
       "  <thead>\n",
       "    <tr style=\"text-align: right;\">\n",
       "      <th></th>\n",
       "      <th>image</th>\n",
       "      <th>caption</th>\n",
       "    </tr>\n",
       "  </thead>\n",
       "  <tbody>\n",
       "    <tr>\n",
       "      <th>0</th>\n",
       "      <td>1000268201_693b08cb0e.jpg</td>\n",
       "      <td>طفلة صغيرة تتسلق إلى مسرح خشبي</td>\n",
       "    </tr>\n",
       "    <tr>\n",
       "      <th>1</th>\n",
       "      <td>1001773457_577c3a7d70.jpg</td>\n",
       "      <td>كلب أسود وكلب ثلاثي الألوان يلعبان مع بعضهما ا...</td>\n",
       "    </tr>\n",
       "    <tr>\n",
       "      <th>2</th>\n",
       "      <td>1002674143_1b742ab4b8.jpg</td>\n",
       "      <td>فتاة صغيرة مغطاة بالطلاء تجلس أمام قوس قزح</td>\n",
       "    </tr>\n",
       "    <tr>\n",
       "      <th>3</th>\n",
       "      <td>1003163366_44323f5815.jpg</td>\n",
       "      <td>رجل يجلس على مقعد بينما يجلس كلبه بجانبه</td>\n",
       "    </tr>\n",
       "    <tr>\n",
       "      <th>4</th>\n",
       "      <td>1007129816_e794419615.jpg</td>\n",
       "      <td>رجل يرتدي قبعة برتقالية</td>\n",
       "    </tr>\n",
       "  </tbody>\n",
       "</table>\n",
       "</div>"
      ],
      "text/plain": [
       "                       image  \\\n",
       "0  1000268201_693b08cb0e.jpg   \n",
       "1  1001773457_577c3a7d70.jpg   \n",
       "2  1002674143_1b742ab4b8.jpg   \n",
       "3  1003163366_44323f5815.jpg   \n",
       "4  1007129816_e794419615.jpg   \n",
       "\n",
       "                                             caption  \n",
       "0                     طفلة صغيرة تتسلق إلى مسرح خشبي  \n",
       "1  كلب أسود وكلب ثلاثي الألوان يلعبان مع بعضهما ا...  \n",
       "2         فتاة صغيرة مغطاة بالطلاء تجلس أمام قوس قزح  \n",
       "3           رجل يجلس على مقعد بينما يجلس كلبه بجانبه  \n",
       "4                            رجل يرتدي قبعة برتقالية  "
      ]
     },
     "execution_count": 19,
     "metadata": {},
     "output_type": "execute_result"
    }
   ],
   "source": [
    "data = pd.read_csv('Data\\Flickr8k_arabic.csv')\n",
    "data.head()"
   ]
  },
  {
   "cell_type": "markdown",
   "id": "50ec1823",
   "metadata": {},
   "source": [
    "# Merge real captions with generative caption in one dataset:"
   ]
  },
  {
   "cell_type": "code",
   "execution_count": 20,
   "id": "24e8bde3",
   "metadata": {},
   "outputs": [
    {
     "data": {
      "text/html": [
       "<div>\n",
       "<style scoped>\n",
       "    .dataframe tbody tr th:only-of-type {\n",
       "        vertical-align: middle;\n",
       "    }\n",
       "\n",
       "    .dataframe tbody tr th {\n",
       "        vertical-align: top;\n",
       "    }\n",
       "\n",
       "    .dataframe thead th {\n",
       "        text-align: right;\n",
       "    }\n",
       "</style>\n",
       "<table border=\"1\" class=\"dataframe\">\n",
       "  <thead>\n",
       "    <tr style=\"text-align: right;\">\n",
       "      <th></th>\n",
       "      <th>image</th>\n",
       "      <th>caption</th>\n",
       "      <th>Gemma_caption</th>\n",
       "      <th>Gemini_caption</th>\n",
       "    </tr>\n",
       "  </thead>\n",
       "  <tbody>\n",
       "    <tr>\n",
       "      <th>0</th>\n",
       "      <td>1001773457_577c3a7d70.jpg</td>\n",
       "      <td>كلب أسود وكلب ثلاثي الألوان يلعبان مع بعضهما ا...</td>\n",
       "      <td>يواجه كلبان بعضهما البعض علي طريق ترابي، ويبدو...</td>\n",
       "      <td>كلبان يلعبان علي طريق اسفلتي.</td>\n",
       "    </tr>\n",
       "    <tr>\n",
       "      <th>1</th>\n",
       "      <td>1002674143_1b742ab4b8.jpg</td>\n",
       "      <td>فتاة صغيرة مغطاة بالطلاء تجلس أمام قوس قزح</td>\n",
       "      <td>طفله صغيره جالسه علي العشب امام قوس قزح كبير ر...</td>\n",
       "      <td>تظهر الصوره طفله صغيره ملطخه بالالوان تجلس علي...</td>\n",
       "    </tr>\n",
       "    <tr>\n",
       "      <th>2</th>\n",
       "      <td>1003163366_44323f5815.jpg</td>\n",
       "      <td>رجل يجلس على مقعد بينما يجلس كلبه بجانبه</td>\n",
       "      <td>رجل مستلق علي مقعد في الهواء الطلق، بينما يجلس...</td>\n",
       "      <td>رجل مستلق علي مقعد وكلبه جالس امامه امام سد ماءي.</td>\n",
       "    </tr>\n",
       "    <tr>\n",
       "      <th>3</th>\n",
       "      <td>1007129816_e794419615.jpg</td>\n",
       "      <td>رجل يرتدي قبعة برتقالية</td>\n",
       "      <td>يظهر في الصوره رجل يرتدي قبعه غريبه مصنوعه من ...</td>\n",
       "      <td>رجل يرتدي نظارات وقبعه برتقاليه فريده مصنوعه م...</td>\n",
       "    </tr>\n",
       "    <tr>\n",
       "      <th>4</th>\n",
       "      <td>1007320043_627395c3d8.jpg</td>\n",
       "      <td>طفل يلعب على حبل</td>\n",
       "      <td>طفله صغيره تتسلق شبكه حمراء في ملعب، وتبدو سعي...</td>\n",
       "      <td>طفله صغيره تتسلق شبكه حبال حمراء في ملعب وتنظر...</td>\n",
       "    </tr>\n",
       "  </tbody>\n",
       "</table>\n",
       "</div>"
      ],
      "text/plain": [
       "                       image  \\\n",
       "0  1001773457_577c3a7d70.jpg   \n",
       "1  1002674143_1b742ab4b8.jpg   \n",
       "2  1003163366_44323f5815.jpg   \n",
       "3  1007129816_e794419615.jpg   \n",
       "4  1007320043_627395c3d8.jpg   \n",
       "\n",
       "                                             caption  \\\n",
       "0  كلب أسود وكلب ثلاثي الألوان يلعبان مع بعضهما ا...   \n",
       "1         فتاة صغيرة مغطاة بالطلاء تجلس أمام قوس قزح   \n",
       "2           رجل يجلس على مقعد بينما يجلس كلبه بجانبه   \n",
       "3                            رجل يرتدي قبعة برتقالية   \n",
       "4                                   طفل يلعب على حبل   \n",
       "\n",
       "                                       Gemma_caption  \\\n",
       "0  يواجه كلبان بعضهما البعض علي طريق ترابي، ويبدو...   \n",
       "1  طفله صغيره جالسه علي العشب امام قوس قزح كبير ر...   \n",
       "2  رجل مستلق علي مقعد في الهواء الطلق، بينما يجلس...   \n",
       "3  يظهر في الصوره رجل يرتدي قبعه غريبه مصنوعه من ...   \n",
       "4  طفله صغيره تتسلق شبكه حمراء في ملعب، وتبدو سعي...   \n",
       "\n",
       "                                      Gemini_caption  \n",
       "0                      كلبان يلعبان علي طريق اسفلتي.  \n",
       "1  تظهر الصوره طفله صغيره ملطخه بالالوان تجلس علي...  \n",
       "2  رجل مستلق علي مقعد وكلبه جالس امامه امام سد ماءي.  \n",
       "3  رجل يرتدي نظارات وقبعه برتقاليه فريده مصنوعه م...  \n",
       "4  طفله صغيره تتسلق شبكه حبال حمراء في ملعب وتنظر...  "
      ]
     },
     "execution_count": 20,
     "metadata": {},
     "output_type": "execute_result"
    }
   ],
   "source": [
    "caption_data = pd.merge(data, caption_df, on=\"image\", how=\"inner\")\n",
    "caption_data.columns = [\"image\",\"caption\", \"Gemma_caption\", \"Gemini_caption\"]\n",
    "caption_data.head()"
   ]
  },
  {
   "cell_type": "markdown",
   "id": "448bff87",
   "metadata": {},
   "source": [
    "# Data Preprocessing:"
   ]
  },
  {
   "cell_type": "code",
   "execution_count": 21,
   "id": "0d45e3c3",
   "metadata": {},
   "outputs": [
    {
     "data": {
      "text/html": [
       "<div>\n",
       "<style scoped>\n",
       "    .dataframe tbody tr th:only-of-type {\n",
       "        vertical-align: middle;\n",
       "    }\n",
       "\n",
       "    .dataframe tbody tr th {\n",
       "        vertical-align: top;\n",
       "    }\n",
       "\n",
       "    .dataframe thead th {\n",
       "        text-align: right;\n",
       "    }\n",
       "</style>\n",
       "<table border=\"1\" class=\"dataframe\">\n",
       "  <thead>\n",
       "    <tr style=\"text-align: right;\">\n",
       "      <th></th>\n",
       "      <th>image</th>\n",
       "      <th>caption</th>\n",
       "      <th>Gemma_caption</th>\n",
       "      <th>Gemini_caption</th>\n",
       "    </tr>\n",
       "  </thead>\n",
       "  <tbody>\n",
       "    <tr>\n",
       "      <th>0</th>\n",
       "      <td>1001773457_577c3a7d70.jpg</td>\n",
       "      <td>كلب اسود وكلب ثلاثي الالوان يلعبان مع بعضهما ا...</td>\n",
       "      <td>يواجه كلبان بعضهما البعض علي طريق ترابي، ويبدو...</td>\n",
       "      <td>كلبان يلعبان علي طريق اسفلتي.</td>\n",
       "    </tr>\n",
       "    <tr>\n",
       "      <th>1</th>\n",
       "      <td>1002674143_1b742ab4b8.jpg</td>\n",
       "      <td>فتاه صغيره مغطاه بالطلاء تجلس امام قوس قزح</td>\n",
       "      <td>طفله صغيره جالسه علي العشب امام قوس قزح كبير ر...</td>\n",
       "      <td>تظهر الصوره طفله صغيره ملطخه بالالوان تجلس علي...</td>\n",
       "    </tr>\n",
       "    <tr>\n",
       "      <th>2</th>\n",
       "      <td>1003163366_44323f5815.jpg</td>\n",
       "      <td>رجل يجلس علي مقعد بينما يجلس كلبه بجانبه</td>\n",
       "      <td>رجل مستلق علي مقعد في الهواء الطلق، بينما يجلس...</td>\n",
       "      <td>رجل مستلق علي مقعد وكلبه جالس امامه امام سد ماءي.</td>\n",
       "    </tr>\n",
       "    <tr>\n",
       "      <th>3</th>\n",
       "      <td>1007129816_e794419615.jpg</td>\n",
       "      <td>رجل يرتدي قبعه برتقاليه</td>\n",
       "      <td>رجل يرتدي قبعه غريبه مصنوعه من علب بيره \"-\" مح...</td>\n",
       "      <td>رجل يرتدي نظارات وقبعه برتقاليه فريده مصنوعه م...</td>\n",
       "    </tr>\n",
       "    <tr>\n",
       "      <th>4</th>\n",
       "      <td>1007320043_627395c3d8.jpg</td>\n",
       "      <td>طفل يلعب علي حبل</td>\n",
       "      <td>طفله صغيره تتسلق شبكه حمراء في ملعب، وتبدو سعي...</td>\n",
       "      <td>طفله صغيره تتسلق شبكه حبال حمراء في ملعب وتنظر...</td>\n",
       "    </tr>\n",
       "  </tbody>\n",
       "</table>\n",
       "</div>"
      ],
      "text/plain": [
       "                       image  \\\n",
       "0  1001773457_577c3a7d70.jpg   \n",
       "1  1002674143_1b742ab4b8.jpg   \n",
       "2  1003163366_44323f5815.jpg   \n",
       "3  1007129816_e794419615.jpg   \n",
       "4  1007320043_627395c3d8.jpg   \n",
       "\n",
       "                                             caption  \\\n",
       "0  كلب اسود وكلب ثلاثي الالوان يلعبان مع بعضهما ا...   \n",
       "1         فتاه صغيره مغطاه بالطلاء تجلس امام قوس قزح   \n",
       "2           رجل يجلس علي مقعد بينما يجلس كلبه بجانبه   \n",
       "3                            رجل يرتدي قبعه برتقاليه   \n",
       "4                                   طفل يلعب علي حبل   \n",
       "\n",
       "                                       Gemma_caption  \\\n",
       "0  يواجه كلبان بعضهما البعض علي طريق ترابي، ويبدو...   \n",
       "1  طفله صغيره جالسه علي العشب امام قوس قزح كبير ر...   \n",
       "2  رجل مستلق علي مقعد في الهواء الطلق، بينما يجلس...   \n",
       "3  رجل يرتدي قبعه غريبه مصنوعه من علب بيره \"-\" مح...   \n",
       "4  طفله صغيره تتسلق شبكه حمراء في ملعب، وتبدو سعي...   \n",
       "\n",
       "                                      Gemini_caption  \n",
       "0                      كلبان يلعبان علي طريق اسفلتي.  \n",
       "1  تظهر الصوره طفله صغيره ملطخه بالالوان تجلس علي...  \n",
       "2  رجل مستلق علي مقعد وكلبه جالس امامه امام سد ماءي.  \n",
       "3  رجل يرتدي نظارات وقبعه برتقاليه فريده مصنوعه م...  \n",
       "4  طفله صغيره تتسلق شبكه حبال حمراء في ملعب وتنظر...  "
      ]
     },
     "execution_count": 21,
     "metadata": {},
     "output_type": "execute_result"
    }
   ],
   "source": [
    "caption_data[\"Gemma_caption\"] = caption_data[\"Gemma_caption\"].astype(str).apply(preprocess_caption)\n",
    "caption_data[\"Gemini_caption\"] = caption_data[\"Gemini_caption\"].astype(str).apply(preprocess_caption)\n",
    "caption_data[\"caption\"] = caption_data[\"caption\"].astype(str).apply(preprocess_caption)\n",
    "caption_data.head()"
   ]
  },
  {
   "cell_type": "code",
   "execution_count": 22,
   "id": "c3f60666",
   "metadata": {},
   "outputs": [
    {
     "data": {
      "text/plain": [
       "(1192, 4)"
      ]
     },
     "execution_count": 22,
     "metadata": {},
     "output_type": "execute_result"
    }
   ],
   "source": [
    "caption_data.shape"
   ]
  },
  {
   "cell_type": "markdown",
   "id": "cbf23d1e",
   "metadata": {},
   "source": [
    "# Save the caption data:"
   ]
  },
  {
   "cell_type": "code",
   "execution_count": null,
   "id": "818ed89d",
   "metadata": {},
   "outputs": [],
   "source": [
    "caption_data.to_csv('Data\\Captions.csv', index=False)\n"
   ]
  }
 ],
 "metadata": {
  "kernelspec": {
   "display_name": "venv",
   "language": "python",
   "name": "python3"
  },
  "language_info": {
   "codemirror_mode": {
    "name": "ipython",
    "version": 3
   },
   "file_extension": ".py",
   "mimetype": "text/x-python",
   "name": "python",
   "nbconvert_exporter": "python",
   "pygments_lexer": "ipython3",
   "version": "3.11.13"
  }
 },
 "nbformat": 4,
 "nbformat_minor": 5
}
