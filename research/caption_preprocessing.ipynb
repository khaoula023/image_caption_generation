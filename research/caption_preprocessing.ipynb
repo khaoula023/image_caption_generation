{
 "cells": [
  {
   "cell_type": "code",
   "execution_count": null,
   "id": "2c0261c2",
   "metadata": {},
   "outputs": [],
   "source": [
    "%pip install arabic-reshaper python-bidi"
   ]
  },
  {
   "cell_type": "code",
   "execution_count": null,
   "id": "a3c24eba",
   "metadata": {},
   "outputs": [],
   "source": [
    "import os\n",
    "import glob\n",
    "import matplotlib.pyplot as plt\n",
    "import numpy as np\n",
    "import pandas as pd\n",
    "import sys\n",
    "import requests\n",
    "from PIL import Image\n",
    "from io import BytesIO\n",
    "import arabic_reshaper\n",
    "from bidi.algorithm import get_display\n",
    "import textwrap\n",
    "from math import ceil\n",
    "import time"
   ]
  },
  {
   "cell_type": "code",
   "execution_count": null,
   "id": "eb313c67",
   "metadata": {},
   "outputs": [],
   "source": [
    "plt.set_cmap('gray')"
   ]
  },
  {
   "cell_type": "markdown",
   "id": "1c99447f",
   "metadata": {},
   "source": [
    "# Load Gemma Captions Dataset:"
   ]
  },
  {
   "cell_type": "code",
   "execution_count": null,
   "id": "f179460d",
   "metadata": {},
   "outputs": [],
   "source": [
    "gemma_1 = pd.read_csv(\"artifacts\\Gemma_captions\\Gemma_captions_day1.csv\")\n",
    "gemma_2 = pd.read_csv(\"artifacts\\Gemma_captions\\Gemma_captions_day2.csv\")\n",
    "gemma_3 = pd.read_csv(\"artifacts\\Gemma_captions\\Gemma_captions_day3.csv\")\n",
    "gemma_4 = pd.read_csv(\"artifacts\\Gemma_captions\\Gemma_captions_day4.csv\")\n",
    "gemma_5 = pd.read_csv(\"artifacts\\Gemma_captions\\Gemma_captions_day5.csv\")\n",
    "print(f'Gemma_1 has{gemma_1.shape}, Gemma_2 has{gemma_2.shape}, Gemma_3 has{gemma_3.shape}, Gemma_4 has{gemma_4.shape}, Gemma_5 has {gemma_5.shape}')\n",
    "gemma_1.head()\n"
   ]
  },
  {
   "cell_type": "markdown",
   "id": "85482dd2",
   "metadata": {},
   "source": [
    "# Data Preprocessing:"
   ]
  },
  {
   "cell_type": "code",
   "execution_count": null,
   "id": "a9fd788f",
   "metadata": {},
   "outputs": [],
   "source": [
    "gemma_1.isna().sum()"
   ]
  },
  {
   "cell_type": "markdown",
   "id": "d2e1acf0",
   "metadata": {},
   "source": [
    "# Concatenate all datasets:"
   ]
  },
  {
   "cell_type": "code",
   "execution_count": null,
   "id": "4db10c62",
   "metadata": {},
   "outputs": [],
   "source": [
    "data1 = pd.concat([gemma_1, gemma_2], ignore_index=True)\n",
    "data2 = pd.concat([gemma_3, gemma_4], ignore_index=True)\n",
    "\n",
    "df = pd.concat([data1, data2], ignore_index=True)\n",
    "print(df.shape)\n",
    "df.head()\n"
   ]
  },
  {
   "cell_type": "markdown",
   "id": "07c1fd70",
   "metadata": {},
   "source": [
    "# Load Gemini Datasets:"
   ]
  },
  {
   "cell_type": "code",
   "execution_count": null,
   "id": "bb1fb8fc",
   "metadata": {},
   "outputs": [],
   "source": [
    "gemini_1 = pd.read_csv(\"artifacts\\Gemini_captions\\Gemini_captions_day1.csv\")\n",
    "gemini_2 = pd.read_csv(\"artifacts\\Gemini_captions\\Gemini_captions_day2.csv\")\n",
    "gemini_3 = pd.read_csv(\"artifacts\\Gemini_captions\\Gemini_captions_day3.csv\")\n",
    "gemini_4 = pd.read_csv(\"artifacts\\Gemini_captions\\Gemini_captions_day4.csv\")\n",
    "gemini_5 = pd.read_csv(\"artifacts\\Gemini_captions\\Gemini_captions_day5.csv\")\n",
    "print(f'gemini_1 has{gemini_1.shape}, gemini_2 has{gemini_2.shape}, gemini_3 has{gemini_3.shape}, gemini_4 has{gemini_4.shape}, gemini_5 has{gemini_5.shape}')\n",
    "gemini_1.head()\n"
   ]
  },
  {
   "cell_type": "markdown",
   "id": "6968f7d5",
   "metadata": {},
   "source": [
    "# Data Perprocessing"
   ]
  },
  {
   "cell_type": "code",
   "execution_count": null,
   "id": "8ac34a39",
   "metadata": {},
   "outputs": [],
   "source": []
  },
  {
   "cell_type": "markdown",
   "id": "b1c5a7ab",
   "metadata": {},
   "source": [
    "# Concatenate all datasets:"
   ]
  }
 ],
 "metadata": {
  "kernelspec": {
   "display_name": "Python 3",
   "language": "python",
   "name": "python3"
  },
  "language_info": {
   "name": "python",
   "version": "3.8.20"
  }
 },
 "nbformat": 4,
 "nbformat_minor": 5
}
