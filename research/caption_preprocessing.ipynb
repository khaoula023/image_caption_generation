{
 "cells": [
  {
   "cell_type": "code",
   "execution_count": null,
   "id": "2c0261c2",
   "metadata": {},
   "outputs": [],
   "source": [
    "%pip install arabic-reshaper python-bidi"
   ]
  },
  {
   "cell_type": "code",
   "execution_count": 1,
   "id": "a3c24eba",
   "metadata": {},
   "outputs": [],
   "source": [
    "import os\n",
    "import glob\n",
    "import matplotlib.pyplot as plt\n",
    "import numpy as np\n",
    "import pandas as pd\n",
    "import sys\n",
    "import requests\n",
    "from PIL import Image\n",
    "from io import BytesIO\n",
    "import arabic_reshaper\n",
    "from bidi.algorithm import get_display\n",
    "import textwrap\n",
    "from math import ceil\n",
    "import time"
   ]
  },
  {
   "cell_type": "code",
   "execution_count": 2,
   "id": "eb313c67",
   "metadata": {},
   "outputs": [
    {
     "data": {
      "text/plain": [
       "<Figure size 640x480 with 0 Axes>"
      ]
     },
     "metadata": {},
     "output_type": "display_data"
    }
   ],
   "source": [
    "plt.set_cmap('gray')"
   ]
  },
  {
   "cell_type": "markdown",
   "id": "1c99447f",
   "metadata": {},
   "source": [
    "# Load Gemma Captions Dataset:"
   ]
  },
  {
   "cell_type": "code",
   "execution_count": 7,
   "id": "f179460d",
   "metadata": {},
   "outputs": [
    {
     "name": "stdout",
     "output_type": "stream",
     "text": [
      "Gemma_1 has(250, 2), Gemma_2 has(250, 2), Gemma_3 has(250, 2), Gemma_4 has(250, 2), Gemma_5 has (250, 2)\n"
     ]
    },
    {
     "data": {
      "text/html": [
       "<div>\n",
       "<style scoped>\n",
       "    .dataframe tbody tr th:only-of-type {\n",
       "        vertical-align: middle;\n",
       "    }\n",
       "\n",
       "    .dataframe tbody tr th {\n",
       "        vertical-align: top;\n",
       "    }\n",
       "\n",
       "    .dataframe thead th {\n",
       "        text-align: right;\n",
       "    }\n",
       "</style>\n",
       "<table border=\"1\" class=\"dataframe\">\n",
       "  <thead>\n",
       "    <tr style=\"text-align: right;\">\n",
       "      <th></th>\n",
       "      <th>image</th>\n",
       "      <th>caption</th>\n",
       "    </tr>\n",
       "  </thead>\n",
       "  <tbody>\n",
       "    <tr>\n",
       "      <th>0</th>\n",
       "      <td>1000268201_693b08cb0e.jpg</td>\n",
       "      <td>بالتأكيد، إليك وصف للصورة في جملة قصيرة:\\n\\nتظ...</td>\n",
       "    </tr>\n",
       "    <tr>\n",
       "      <th>1</th>\n",
       "      <td>1001773457_577c3a7d70.jpg</td>\n",
       "      <td>في الصورة، يواجه كلبان بعضهما البعض على طريق ت...</td>\n",
       "    </tr>\n",
       "    <tr>\n",
       "      <th>2</th>\n",
       "      <td>1002674143_1b742ab4b8.jpg</td>\n",
       "      <td>الصورة تظهر طفلة صغيرة جالسة على العشب أمام قو...</td>\n",
       "    </tr>\n",
       "    <tr>\n",
       "      <th>3</th>\n",
       "      <td>1003163366_44323f5815.jpg</td>\n",
       "      <td>بالتأكيد، إليك وصف للصورة في جملة قصيرة:\\n\\nرج...</td>\n",
       "    </tr>\n",
       "    <tr>\n",
       "      <th>4</th>\n",
       "      <td>1007129816_e794419615.jpg</td>\n",
       "      <td>بالتأكيد، إليك وصف للصورة في جملة قصيرة:\\n\\nيظ...</td>\n",
       "    </tr>\n",
       "  </tbody>\n",
       "</table>\n",
       "</div>"
      ],
      "text/plain": [
       "                       image  \\\n",
       "0  1000268201_693b08cb0e.jpg   \n",
       "1  1001773457_577c3a7d70.jpg   \n",
       "2  1002674143_1b742ab4b8.jpg   \n",
       "3  1003163366_44323f5815.jpg   \n",
       "4  1007129816_e794419615.jpg   \n",
       "\n",
       "                                             caption  \n",
       "0  بالتأكيد، إليك وصف للصورة في جملة قصيرة:\\n\\nتظ...  \n",
       "1  في الصورة، يواجه كلبان بعضهما البعض على طريق ت...  \n",
       "2  الصورة تظهر طفلة صغيرة جالسة على العشب أمام قو...  \n",
       "3  بالتأكيد، إليك وصف للصورة في جملة قصيرة:\\n\\nرج...  \n",
       "4  بالتأكيد، إليك وصف للصورة في جملة قصيرة:\\n\\nيظ...  "
      ]
     },
     "execution_count": 7,
     "metadata": {},
     "output_type": "execute_result"
    }
   ],
   "source": [
    "gemma_1 = pd.read_csv(\"Data\\Gemma_captions\\Gemma_captions_day1.csv\")\n",
    "gemma_2 = pd.read_csv(\"Data\\Gemma_captions\\Gemma_captions_day2.csv\")\n",
    "gemma_3 = pd.read_csv(\"Data\\Gemma_captions\\Gemma_captions_day3.csv\")\n",
    "gemma_4 = pd.read_csv(\"Data\\Gemma_captions\\Gemma_captions_day4.csv\")\n",
    "gemma_5 = pd.read_csv(\"Data\\Gemma_captions\\Gemma_captions_day5.csv\")\n",
    "print(f'Gemma_1 has{gemma_1.shape}, Gemma_2 has{gemma_2.shape}, Gemma_3 has{gemma_3.shape}, Gemma_4 has{gemma_4.shape}, Gemma_5 has {gemma_5.shape}')\n",
    "gemma_1.head()\n"
   ]
  },
  {
   "cell_type": "markdown",
   "id": "85482dd2",
   "metadata": {},
   "source": [
    "# Data Preprocessing:"
   ]
  },
  {
   "cell_type": "code",
   "execution_count": 11,
   "id": "a9fd788f",
   "metadata": {},
   "outputs": [
    {
     "name": "stdout",
     "output_type": "stream",
     "text": [
      "Gemma 1: image      0\n",
      "caption    9\n",
      "dtype: int64,\n",
      " Gemma 2: image      0\n",
      "caption    6\n",
      "dtype: int64,\n",
      " Gemma 3: image      0\n",
      "caption    4\n",
      "dtype: int64,\n",
      " Gemma 4: image       0\n",
      "caption    10\n",
      "dtype: int64,\n",
      " Gemma 5: image      0\n",
      "caption    5\n",
      "dtype: int64\n"
     ]
    }
   ],
   "source": [
    "# Check None values:\n",
    "print(f'Gemma 1: {gemma_1.isna().sum()},\\n Gemma 2: {gemma_2.isna().sum()},\\n Gemma 3: {gemma_3.isna().sum()},\\n Gemma 4: {gemma_4.isna().sum()},\\n Gemma 5: {gemma_5.isna().sum()}')"
   ]
  },
  {
   "cell_type": "code",
   "execution_count": 15,
   "id": "037e4e6e",
   "metadata": {},
   "outputs": [
    {
     "name": "stdout",
     "output_type": "stream",
     "text": [
      "the None captions overall is: 34 \n"
     ]
    }
   ],
   "source": [
    "non = gemma_1.isna().sum().caption + gemma_2.isna().sum().caption + gemma_3.isna().sum().caption + gemma_4.isna().sum().caption + gemma_5.isna().sum().caption \n",
    "print(f'the None captions overall is: {non} ')"
   ]
  },
  {
   "cell_type": "markdown",
   "id": "d2e1acf0",
   "metadata": {},
   "source": [
    "# Concatenate all datasets:"
   ]
  },
  {
   "cell_type": "code",
   "execution_count": null,
   "id": "4db10c62",
   "metadata": {},
   "outputs": [],
   "source": [
    "data1 = pd.concat([gemma_1, gemma_2], ignore_index=True)\n",
    "data2 = pd.concat([gemma_3, gemma_4], ignore_index=True)\n",
    "\n",
    "df = pd.concat([data1, data2], ignore_index=True)\n",
    "print(df.shape)\n",
    "df.head()\n"
   ]
  },
  {
   "cell_type": "markdown",
   "id": "07c1fd70",
   "metadata": {},
   "source": [
    "# Load Gemini Datasets:"
   ]
  },
  {
   "cell_type": "code",
   "execution_count": null,
   "id": "bb1fb8fc",
   "metadata": {},
   "outputs": [],
   "source": [
    "gemini_1 = pd.read_csv(\"artifacts\\Gemini_captions\\Gemini_captions_day1.csv\")\n",
    "gemini_2 = pd.read_csv(\"artifacts\\Gemini_captions\\Gemini_captions_day2.csv\")\n",
    "gemini_3 = pd.read_csv(\"artifacts\\Gemini_captions\\Gemini_captions_day3.csv\")\n",
    "gemini_4 = pd.read_csv(\"artifacts\\Gemini_captions\\Gemini_captions_day4.csv\")\n",
    "gemini_5 = pd.read_csv(\"artifacts\\Gemini_captions\\Gemini_captions_day5.csv\")\n",
    "print(f'gemini_1 has{gemini_1.shape}, gemini_2 has{gemini_2.shape}, gemini_3 has{gemini_3.shape}, gemini_4 has{gemini_4.shape}, gemini_5 has{gemini_5.shape}')\n",
    "gemini_1.head()\n"
   ]
  },
  {
   "cell_type": "markdown",
   "id": "6968f7d5",
   "metadata": {},
   "source": [
    "# Data Perprocessing"
   ]
  },
  {
   "cell_type": "code",
   "execution_count": null,
   "id": "8ac34a39",
   "metadata": {},
   "outputs": [],
   "source": []
  },
  {
   "cell_type": "markdown",
   "id": "b1c5a7ab",
   "metadata": {},
   "source": [
    "# Concatenate all datasets:"
   ]
  }
 ],
 "metadata": {
  "kernelspec": {
   "display_name": "venv",
   "language": "python",
   "name": "python3"
  },
  "language_info": {
   "codemirror_mode": {
    "name": "ipython",
    "version": 3
   },
   "file_extension": ".py",
   "mimetype": "text/x-python",
   "name": "python",
   "nbconvert_exporter": "python",
   "pygments_lexer": "ipython3",
   "version": "3.11.13"
  }
 },
 "nbformat": 4,
 "nbformat_minor": 5
}
