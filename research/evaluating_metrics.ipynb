{
 "cells": [
  {
   "cell_type": "code",
   "execution_count": 1,
   "id": "deb5eef2",
   "metadata": {},
   "outputs": [
    {
     "name": "stderr",
     "output_type": "stream",
     "text": [
      "/home/codespace/.local/lib/python3.12/site-packages/tqdm/auto.py:21: TqdmWarning: IProgress not found. Please update jupyter and ipywidgets. See https://ipywidgets.readthedocs.io/en/stable/user_install.html\n",
      "  from .autonotebook import tqdm as notebook_tqdm\n"
     ]
    }
   ],
   "source": [
    "import evaluate\n",
    "import pandas as pd\n"
   ]
  },
  {
   "cell_type": "markdown",
   "id": "e944230c",
   "metadata": {},
   "source": [
    "# Load Dataset:"
   ]
  },
  {
   "cell_type": "code",
   "execution_count": 7,
   "id": "7f46abc4",
   "metadata": {},
   "outputs": [
    {
     "data": {
      "text/html": [
       "<div>\n",
       "<style scoped>\n",
       "    .dataframe tbody tr th:only-of-type {\n",
       "        vertical-align: middle;\n",
       "    }\n",
       "\n",
       "    .dataframe tbody tr th {\n",
       "        vertical-align: top;\n",
       "    }\n",
       "\n",
       "    .dataframe thead th {\n",
       "        text-align: right;\n",
       "    }\n",
       "</style>\n",
       "<table border=\"1\" class=\"dataframe\">\n",
       "  <thead>\n",
       "    <tr style=\"text-align: right;\">\n",
       "      <th></th>\n",
       "      <th>image</th>\n",
       "      <th>caption</th>\n",
       "      <th>Gemma_caption</th>\n",
       "      <th>Gemini_caption</th>\n",
       "    </tr>\n",
       "  </thead>\n",
       "  <tbody>\n",
       "    <tr>\n",
       "      <th>0</th>\n",
       "      <td>1001773457_577c3a7d70.jpg</td>\n",
       "      <td>كلب اسود وكلب ثلاثي الالوان يلعبان مع بعضهما ا...</td>\n",
       "      <td>يواجه كلبان بعضهما البعض علي طريق ترابي، ويبدو...</td>\n",
       "      <td>كلبان يلعبان علي طريق اسفلتي.</td>\n",
       "    </tr>\n",
       "    <tr>\n",
       "      <th>1</th>\n",
       "      <td>1002674143_1b742ab4b8.jpg</td>\n",
       "      <td>فتاه صغيره مغطاه بالطلاء تجلس امام قوس قزح</td>\n",
       "      <td>طفله صغيره جالسه علي العشب امام قوس قزح كبير ر...</td>\n",
       "      <td>تظهر الصوره طفله صغيره ملطخه بالالوان تجلس علي...</td>\n",
       "    </tr>\n",
       "    <tr>\n",
       "      <th>2</th>\n",
       "      <td>1003163366_44323f5815.jpg</td>\n",
       "      <td>رجل يجلس علي مقعد بينما يجلس كلبه بجانبه</td>\n",
       "      <td>رجل مستلق علي مقعد في الهواء الطلق، بينما يجلس...</td>\n",
       "      <td>رجل مستلق علي مقعد وكلبه جالس امامه امام سد ماءي.</td>\n",
       "    </tr>\n",
       "    <tr>\n",
       "      <th>3</th>\n",
       "      <td>1007129816_e794419615.jpg</td>\n",
       "      <td>رجل يرتدي قبعه برتقاليه</td>\n",
       "      <td>رجل يرتدي قبعه غريبه مصنوعه من علب بيره \"-\" مح...</td>\n",
       "      <td>رجل يرتدي نظارات وقبعه برتقاليه فريده مصنوعه م...</td>\n",
       "    </tr>\n",
       "    <tr>\n",
       "      <th>4</th>\n",
       "      <td>1007320043_627395c3d8.jpg</td>\n",
       "      <td>طفل يلعب علي حبل</td>\n",
       "      <td>طفله صغيره تتسلق شبكه حمراء في ملعب، وتبدو سعي...</td>\n",
       "      <td>طفله صغيره تتسلق شبكه حبال حمراء في ملعب وتنظر...</td>\n",
       "    </tr>\n",
       "  </tbody>\n",
       "</table>\n",
       "</div>"
      ],
      "text/plain": [
       "                       image  \\\n",
       "0  1001773457_577c3a7d70.jpg   \n",
       "1  1002674143_1b742ab4b8.jpg   \n",
       "2  1003163366_44323f5815.jpg   \n",
       "3  1007129816_e794419615.jpg   \n",
       "4  1007320043_627395c3d8.jpg   \n",
       "\n",
       "                                             caption  \\\n",
       "0  كلب اسود وكلب ثلاثي الالوان يلعبان مع بعضهما ا...   \n",
       "1         فتاه صغيره مغطاه بالطلاء تجلس امام قوس قزح   \n",
       "2           رجل يجلس علي مقعد بينما يجلس كلبه بجانبه   \n",
       "3                            رجل يرتدي قبعه برتقاليه   \n",
       "4                                   طفل يلعب علي حبل   \n",
       "\n",
       "                                       Gemma_caption  \\\n",
       "0  يواجه كلبان بعضهما البعض علي طريق ترابي، ويبدو...   \n",
       "1  طفله صغيره جالسه علي العشب امام قوس قزح كبير ر...   \n",
       "2  رجل مستلق علي مقعد في الهواء الطلق، بينما يجلس...   \n",
       "3  رجل يرتدي قبعه غريبه مصنوعه من علب بيره \"-\" مح...   \n",
       "4  طفله صغيره تتسلق شبكه حمراء في ملعب، وتبدو سعي...   \n",
       "\n",
       "                                      Gemini_caption  \n",
       "0                      كلبان يلعبان علي طريق اسفلتي.  \n",
       "1  تظهر الصوره طفله صغيره ملطخه بالالوان تجلس علي...  \n",
       "2  رجل مستلق علي مقعد وكلبه جالس امامه امام سد ماءي.  \n",
       "3  رجل يرتدي نظارات وقبعه برتقاليه فريده مصنوعه م...  \n",
       "4  طفله صغيره تتسلق شبكه حبال حمراء في ملعب وتنظر...  "
      ]
     },
     "execution_count": 7,
     "metadata": {},
     "output_type": "execute_result"
    }
   ],
   "source": [
    "data = pd.read_csv(\"Data/Captions.csv\")\n",
    "data.head()"
   ]
  },
  {
   "cell_type": "markdown",
   "id": "3437e2f6",
   "metadata": {},
   "source": [
    "# Bleu Score:"
   ]
  },
  {
   "cell_type": "code",
   "execution_count": 8,
   "id": "6d93270e",
   "metadata": {},
   "outputs": [],
   "source": [
    "def bleu_score(gens, refs):\n",
    "    bleu = evaluate.load(\"bleu\")\n",
    "    result = bleu.compute(predictions=gens, references=refs)\n",
    "    return result[\"bleu\"]\n"
   ]
  },
  {
   "cell_type": "markdown",
   "id": "0b090466",
   "metadata": {},
   "source": [
    "## Gemma Model:"
   ]
  },
  {
   "cell_type": "markdown",
   "id": "ae078f29",
   "metadata": {},
   "source": [
    "## Gemini Model"
   ]
  }
 ],
 "metadata": {
  "kernelspec": {
   "display_name": "Python 3",
   "language": "python",
   "name": "python3"
  },
  "language_info": {
   "codemirror_mode": {
    "name": "ipython",
    "version": 3
   },
   "file_extension": ".py",
   "mimetype": "text/x-python",
   "name": "python",
   "nbconvert_exporter": "python",
   "pygments_lexer": "ipython3",
   "version": "3.12.1"
  }
 },
 "nbformat": 4,
 "nbformat_minor": 5
}
